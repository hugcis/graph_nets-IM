{
 "cells": [
  {
   "cell_type": "code",
   "execution_count": 4,
   "metadata": {},
   "outputs": [],
   "source": [
    "import numpy as np\n",
    "import matplotlib.pyplot as plt\n",
    "import networkx as nx\n",
    "import itertools\n",
    "\n",
    "from tqdm import tqdm_notebook as tqdm\n",
    "\n",
    "from ic_influence_maximization.generate_graph import generate_graph\n",
    "from ic_influence_maximization.utils import pp, miia, mip, mioa, in_neighbors\n",
    "from ic_influence_maximization.greedy_ic import naive_greedy_algorithm, ap\n",
    "from ic_influence_maximization.pmia import pmia\n",
    "from ic_influence_maximization.degreeHeuristic import degreeHeuristic\n",
    "\n",
    "import time\n",
    "\n",
    "theta =  0.01"
   ]
  },
  {
   "cell_type": "markdown",
   "metadata": {},
   "source": [
    "## Time of execution with different number of nodes and constant number of seed nodes : "
   ]
  },
  {
   "cell_type": "code",
   "execution_count": null,
   "metadata": {},
   "outputs": [],
   "source": [
    "time_pmia=[]\n",
    "time_maxdegree=[]\n",
    "for i in range(10,200,20):\n",
    "    graph = generate_graph(num_nodes_min_max=[i, i+5], directed=True, rate=0.6)\n",
    "    start_time_pmia = time.time()\n",
    "    path_pmia = pmia(graph, 5, theta, tqdm_function=tqdm)\n",
    "    end_time_pmia = time.time()\n",
    "    start_time_maxdegree =time.time()\n",
    "    path_maxdegree=degreeHeuristic(graph, 5)\n",
    "    end_time_maxdegree = time.time()\n",
    "    time_pmia.append((start_time_pmia-end_time_pmia))\n",
    "    time_maxdegree.append((start_time_maxdegree-end_time_maxdegree))"
   ]
  },
  {
   "cell_type": "code",
   "execution_count": null,
   "metadata": {},
   "outputs": [],
   "source": [
    "n=range(10,200,20)\n",
    "plt.plot(n,-np.array(time_pmia),'r')\n",
    "plt.plot(n,-np.array(time_maxdegree),'b')\n",
    "plt.show()"
   ]
  },
  {
   "cell_type": "markdown",
   "metadata": {},
   "source": [
    "## Time of execution with constant number of nodes and different number of seed nodes : "
   ]
  },
  {
   "cell_type": "code",
   "execution_count": 40,
   "metadata": {},
   "outputs": [],
   "source": [
    "time_pmia_seeds=[]\n",
    "time_maxdegree_seeds=[]\n",
    "for i in range(1,10):\n",
    "    graph = generate_graph(num_nodes_min_max=[10, 25], directed=True, rate=0.6) \n",
    "    start_time_pmia = time.time()\n",
    "    path_pmia = pmia(graph, i, theta, tqdm_function=tqdm)\n",
    "    end_time_pmia = time.time()\n",
    "    start_time_maxdegree =time.time()\n",
    "    path_maxdegree=degreeHeuristic(graph, i)\n",
    "    end_time_maxdegree = time.time()\n",
    "    time_pmia_seeds.append((start_time_pmia-end_time_pmia))\n",
    "    time_maxdegree_seeds.append((start_time_maxdegree-end_time_maxdegree))"
   ]
  },
  {
   "cell_type": "code",
   "execution_count": 60,
   "metadata": {},
   "outputs": [
    {
     "data": {
      "image/png": "[encoded data removed]",
      "text/plain": [
       "<Figure size 432x288 with 1 Axes>"
      ]
     },
     "metadata": {
      "needs_background": "light"
     },
     "output_type": "display_data"
    }
   ],
   "source": [
    "n=range(1,10)\n",
    "plt.plot(n,-np.array(time_pmia_seeds),'r',label='pmia')\n",
    "plt.plot(n,-np.array(time_maxdegree_seeds),'b',label='maxdegree')\n",
    "plt.show()"
   ]
  },
  {
   "cell_type": "markdown",
   "metadata": {},
   "source": [
    "## Comparison of Influence spread : "
   ]
  },
  {
   "cell_type": "code",
   "execution_count": null,
   "metadata": {},
   "outputs": [],
   "source": []
  }
 ],
 "metadata": {
  "kernelspec": {
   "display_name": "Python 3",
   "language": "python",
   "name": "python3"
  },
  "language_info": {
   "codemirror_mode": {
    "name": "ipython",
    "version": 3
   },
   "file_extension": ".py",
   "mimetype": "text/x-python",
   "name": "python",
   "nbconvert_exporter": "python",
   "pygments_lexer": "ipython3",
   "version": "3.7.0"
  }
 },
 "nbformat": 4,
 "nbformat_minor": 2
}
