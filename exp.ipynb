{
 "cells": [
  {
   "cell_type": "code",
   "execution_count": 1,
   "metadata": {},
   "outputs": [],
   "source": [
    "import numpy as np\n",
    "import matplotlib.pyplot as plt\n",
    "from heapq import heappush, heappop"
   ]
  },
  {
   "cell_type": "markdown",
   "metadata": {},
   "source": [
    "## Initial setup"
   ]
  },
  {
   "cell_type": "code",
   "execution_count": 251,
   "metadata": {},
   "outputs": [],
   "source": [
    "N_NODES = 50\n",
    "N_EDGES = 40\n",
    "K = 10\n",
    "theta = 0.99\n",
    "edges_random = np.random.beta(2, 8, (N_NODES, N_NODES))\n",
    "edges_random_dis = -np.log(edges_random)"
   ]
  },
  {
   "cell_type": "code",
   "execution_count": 234,
   "metadata": {},
   "outputs": [
    {
     "data": {
      "text/plain": [
       "0.7845941170483086"
      ]
     },
     "execution_count": 234,
     "metadata": {},
     "output_type": "execute_result"
    }
   ],
   "source": [
    "edges_random.max()"
   ]
  },
  {
   "cell_type": "code",
   "execution_count": 235,
   "metadata": {},
   "outputs": [
    {
     "data": {
      "text/plain": [
       "Text(0.5, 1.0, 'Histogram of transition probabilities')"
      ]
     },
     "execution_count": 235,
     "metadata": {},
     "output_type": "execute_result"
    },
    {
     "data": {
      "image/png": "[encoded data removed]",
      "text/plain": [
       "<Figure size 432x288 with 1 Axes>"
      ]
     },
     "metadata": {
      "needs_background": "light"
     },
     "output_type": "display_data"
    }
   ],
   "source": [
    "plt.hist(edges_random.reshape(-1), bins=50)\n",
    "plt.title(\"Histogram of transition probabilities\")"
   ]
  },
  {
   "cell_type": "code",
   "execution_count": 236,
   "metadata": {},
   "outputs": [
    {
     "data": {
      "text/plain": [
       "Text(0.5, 1.0, 'Histogram of transition probabilities')"
      ]
     },
     "execution_count": 236,
     "metadata": {},
     "output_type": "execute_result"
    },
    {
     "data": {
      "image/png": "[encoded data removed]",
      "text/plain": [
       "<Figure size 432x288 with 1 Axes>"
      ]
     },
     "metadata": {
      "needs_background": "light"
     },
     "output_type": "display_data"
    }
   ],
   "source": [
    "plt.hist(edges_random_dis.reshape(-1), bins=50)\n",
    "plt.title(\"Histogram of transition probabilities\")"
   ]
  },
  {
   "cell_type": "code",
   "execution_count": 260,
   "metadata": {},
   "outputs": [],
   "source": [
    "def dijkstra_search(edges_proba, start, end):\n",
    "    \"\"\" Dijkstra algorithm for finding shortest path on a graph defined by\n",
    "    its weight matrix. \n",
    "    \n",
    "    Args:\n",
    "        - edges_proba: ndarray of shape (n_nodes, n_nodes) with\n",
    "          probabilities\n",
    "        - start: start node\n",
    "        - end: end node\n",
    "        \n",
    "    Returns:\n",
    "        - path: list of node of shortest path\n",
    "        - cost: total cost of the path\n",
    "    \"\"\"\n",
    "    weights = -np.log(edges_proba)\n",
    "    queue = []\n",
    "    heappush(queue, (0, start))\n",
    "    came_from = {}\n",
    "    cost_so_far = {}\n",
    "    came_from[start] = None\n",
    "    cost_so_far[start] = 0\n",
    "\n",
    "    items = set(range(N_NODES))\n",
    "\n",
    "    while len(queue):\n",
    "        current = heappop(queue)[1]\n",
    "\n",
    "        if current == end:\n",
    "            break\n",
    "\n",
    "        for next_item in items.difference({current}):\n",
    "            new_cost = cost_so_far[current] + weights[current, next_item]\n",
    "            if next_item not in cost_so_far or new_cost < cost_so_far[next_item]:\n",
    "                cost_so_far[next_item] = new_cost\n",
    "                priority = new_cost\n",
    "                heappush(queue, (priority, next_item))\n",
    "                came_from[next_item] = current\n",
    "\n",
    "    cursor = end\n",
    "    path = []\n",
    "    while cursor != start:\n",
    "        path.append(cursor)\n",
    "        cursor = came_from[cursor]\n",
    "    path.append(start)\n",
    "\n",
    "    return path[::-1], np.exp(-cost_so_far[end])"
   ]
  },
  {
   "cell_type": "code",
   "execution_count": 261,
   "metadata": {},
   "outputs": [
    {
     "data": {
      "text/plain": [
       "([0, 1], 0.3823058945892905)"
      ]
     },
     "execution_count": 261,
     "metadata": {},
     "output_type": "execute_result"
    }
   ],
   "source": [
    "dijkstra_search(edges_random, 0, 1)"
   ]
  },
  {
   "cell_type": "code",
   "execution_count": 262,
   "metadata": {},
   "outputs": [],
   "source": [
    "alls = [dijkstra_search(edges_random, 0, i) for i in range(N_NODES)]"
   ]
  },
  {
   "cell_type": "code",
   "execution_count": 263,
   "metadata": {},
   "outputs": [
    {
     "data": {
      "text/plain": [
       "[([0], 1.0),\n",
       " ([0, 1], 0.3823058945892905),\n",
       " ([0, 2], 0.20249674225607592),\n",
       " ([0, 3], 0.4138384299978841),\n",
       " ([0, 4], 0.3707408178591732),\n",
       " ([0, 24, 5], 0.1642268392804828),\n",
       " ([0, 20, 6], 0.19017042851939456),\n",
       " ([0, 41, 7], 0.21527120804615532),\n",
       " ([0, 41, 8], 0.18896365318637406),\n",
       " ([0, 9], 0.14664320762060484),\n",
       " ([0, 10], 0.20661753515122971),\n",
       " ([0, 23, 11], 0.16914884452525059),\n",
       " ([0, 12], 0.3845862581774936),\n",
       " ([0, 13], 0.3145854417646683),\n",
       " ([0, 23, 14], 0.15382746945289474),\n",
       " ([0, 1, 15], 0.12915891058216533),\n",
       " ([0, 4, 16], 0.19785224351582678),\n",
       " ([0, 26, 17], 0.11815625781284628),\n",
       " ([0, 24, 18], 0.23282006823968943),\n",
       " ([0, 19], 0.1345141117275254),\n",
       " ([0, 20], 0.3924988680928669),\n",
       " ([0, 21], 0.21134138471901104),\n",
       " ([0, 22], 0.22744556268908805),\n",
       " ([0, 23], 0.3817028589850833),\n",
       " ([0, 24], 0.4573795280948644),\n",
       " ([0, 25], 0.1470616160695527),\n",
       " ([0, 26], 0.34027682072856097),\n",
       " ([0, 27], 0.20552661047290618),\n",
       " ([0, 20, 28], 0.15012439703002106),\n",
       " ([0, 29], 0.18612631546942957),\n",
       " ([0, 30], 0.19655685443779616),\n",
       " ([0, 31], 0.2797665563695156),\n",
       " ([0, 4, 32], 0.17045258312669884),\n",
       " ([0, 23, 33], 0.1301587449578223),\n",
       " ([0, 41, 34], 0.18922921088778205),\n",
       " ([0, 35], 0.26933480858869796),\n",
       " ([0, 24, 36], 0.25061964093113454),\n",
       " ([0, 3, 37], 0.1502370758911373),\n",
       " ([0, 38], 0.24011095035650712),\n",
       " ([0, 31, 39], 0.14296702008116963),\n",
       " ([0, 40], 0.2795137971158712),\n",
       " ([0, 41], 0.4040702988581675),\n",
       " ([0, 42], 0.33683407480233857),\n",
       " ([0, 43], 0.23606891831613752),\n",
       " ([0, 3, 44], 0.26555105383812755),\n",
       " ([0, 12, 45], 0.10797329399672694),\n",
       " ([0, 46], 0.24124251643673766),\n",
       " ([0, 3, 47], 0.19214723368281086),\n",
       " ([0, 48], 0.27637800251319966),\n",
       " ([0, 49], 0.24936773832169398)]"
      ]
     },
     "execution_count": 263,
     "metadata": {},
     "output_type": "execute_result"
    }
   ],
   "source": [
    "alls"
   ]
  },
  {
   "cell_type": "code",
   "execution_count": 199,
   "metadata": {},
   "outputs": [
    {
     "data": {
      "text/plain": [
       "([0, 4], 0.21987461693731403)"
      ]
     },
     "execution_count": 199,
     "metadata": {},
     "output_type": "execute_result"
    }
   ],
   "source": [
    "mip(0, 4)"
   ]
  },
  {
   "cell_type": "code",
   "execution_count": 266,
   "metadata": {},
   "outputs": [],
   "source": [
    "S = np.random.choice(range(N_NODES), size=K)\n",
    "\n",
    "def mip(u, v):\n",
    "    \"\"\" Maximum influence path function (or shortest\n",
    "    path in the graph)\n",
    "    \"\"\"\n",
    "    return dijkstra_search(edges_random, u, v)\n",
    "\n",
    "def pp(u, v):\n",
    "    \n",
    "    return dijkstra_search(edges_random, u, v)[1]\n",
    "\n",
    "def miia(v, theta):\n",
    "    \"\"\" Maximum Influence In-Arborescence funtion\n",
    "    All the paths to v with propagation probability\n",
    "    above theta\n",
    "    \"\"\"\n",
    "    u_list = []\n",
    "    for u in range(N_NODES):\n",
    "        if v == u: continue\n",
    "        path, score = mip(u, v)\n",
    "        if score > theta:\n",
    "            u_list.append(path)\n",
    "    return u_list\n",
    "\n",
    "def mioa(u, theta):\n",
    "    \"\"\" Maximum Influence Out-Arborescence funtion\n",
    "    All the paths from u with propagation probability\n",
    "    above theta\n",
    "    \"\"\"\n",
    "    v_list = []\n",
    "    for v in range(N_NODES):\n",
    "        if v == u: continue\n",
    "        path, score = mip(u, v)\n",
    "        if score > theta:\n",
    "            v_list.append(path)\n",
    "    return v_list"
   ]
  },
  {
   "cell_type": "code",
   "execution_count": 267,
   "metadata": {},
   "outputs": [
    {
     "data": {
      "text/plain": [
       "[[5, 8],\n",
       " [14, 8],\n",
       " [19, 8],\n",
       " [21, 8],\n",
       " [27, 8],\n",
       " [31, 8],\n",
       " [33, 8],\n",
       " [35, 8],\n",
       " [39, 8],\n",
       " [41, 8],\n",
       " [49, 8]]"
      ]
     },
     "execution_count": 267,
     "metadata": {},
     "output_type": "execute_result"
    }
   ],
   "source": [
    "miia(8, 0.3)"
   ]
  },
  {
   "cell_type": "code",
   "execution_count": 269,
   "metadata": {},
   "outputs": [],
   "source": [
    "def in_neighbors(u, miia):\n",
    "    result_set = []\n",
    "    for path in miia:\n",
    "        if u in path and path[0] != u:\n",
    "            result_set.append(path[path.index(u) - 1])\n",
    "    return result_set"
   ]
  },
  {
   "cell_type": "code",
   "execution_count": 344,
   "metadata": {},
   "outputs": [],
   "source": [
    "def hsh(i, lst):\n",
    "    return int( str(hash(repr(lst))) + str(hash(i)))\n",
    "    \n",
    "def ap_base(u, S, miia_v_theta):\n",
    "    n_in = in_neighbors(u, miia_v_theta)\n",
    "    if u in S:\n",
    "        return 1.\n",
    "    elif not len(n_in):\n",
    "        return 0.\n",
    "    else:\n",
    "        base = 1\n",
    "        for in_neighbor in n_in:\n",
    "            base *= (1 - ap_base(in_neighbor, S, miia_v_theta)*pp(in_neighbor, u))\n",
    "        return 1 - base\n",
    "    \n",
    "def ap(u, S, miia_v_theta, cache={}):\n",
    "    n_in = in_neighbors(u, miia_v_theta)\n",
    "    if u in S:\n",
    "        return 1.\n",
    "    elif not len(n_in):\n",
    "        return 0.\n",
    "    else:\n",
    "        base = 1\n",
    "        for in_neighbor in n_in:\n",
    "            if hsh(in_neighbor,miia_v_theta) in cache:\n",
    "                p = cache[hsh(in_neighbor,miia_v_theta)]\n",
    "            else:\n",
    "                p =  ap(in_neighbor, S, miia_v_theta, cache)\n",
    "                cache[hsh(in_neighbor,miia_v_theta)] = p\n",
    "            base *= (1 - p*pp(in_neighbor, u))\n",
    "        return 1 - base\n"
   ]
  },
  {
   "cell_type": "code",
   "execution_count": 324,
   "metadata": {},
   "outputs": [
    {
     "ename": "IndentationError",
     "evalue": "expected an indented block (<ipython-input-324-07a0c93b3796>, line 12)",
     "output_type": "error",
     "traceback": [
      "\u001b[0;36m  File \u001b[0;32m\"<ipython-input-324-07a0c93b3796>\"\u001b[0;36m, line \u001b[0;32m12\u001b[0m\n\u001b[0;31m    ap(in_neighbor, S, miia_v_theta)\u001b[0m\n\u001b[0m     ^\u001b[0m\n\u001b[0;31mIndentationError\u001b[0m\u001b[0;31m:\u001b[0m expected an indented block\n"
     ]
    }
   ],
   "source": [
    "# Attempt to linearize the ap calculation\n",
    "def ap_linear(u, S, miia_v_theta):\n",
    "    n_in = in_neighbors(u, miia_v_theta)\n",
    "    if u in S:\n",
    "        return 1.\n",
    "    elif not len(n_in):\n",
    "        return 0.\n",
    "    else:\n",
    "        aps = {}\n",
    "        for path in miia_v_theta:\n",
    "            if u in path:\n",
    "                \n",
    "            ap(in_neighbor, S, miia_v_theta)\n",
    "        base = 1\n",
    "        for in_neighbor in n_in:\n",
    "            base *= (1 - ap(in_neighbor, S, miia_v_theta)*pp(in_neighbor, u))\n",
    "        return 1 - base\n"
   ]
  },
  {
   "cell_type": "code",
   "execution_count": 352,
   "metadata": {},
   "outputs": [
    {
     "data": {
      "text/plain": [
       "30.017359723104146"
      ]
     },
     "execution_count": 352,
     "metadata": {},
     "output_type": "execute_result"
    }
   ],
   "source": [
    "sum(ap(i, S, miia(i, 0.3)) for i in range(N_NODES))"
   ]
  },
  {
   "cell_type": "code",
   "execution_count": 256,
   "metadata": {},
   "outputs": [],
   "source": [
    "from tqdm import tqdm_notebook as tqdm"
   ]
  },
  {
   "cell_type": "code",
   "execution_count": 356,
   "metadata": {},
   "outputs": [],
   "source": [
    "def naive_greedy_algorithm(n_source):\n",
    "    s = []\n",
    "\n",
    "    for k in tqdm(range(n_source)):\n",
    "        max_influence = 0\n",
    "        max_node = 0\n",
    "        for node in tqdm(range(N_NODES)):\n",
    "            if not node in s:\n",
    "                influence = sum(ap(i, s + [node], miia(i, 0.4)) \n",
    "                                for i in range(N_NODES))\n",
    "            if influence > max_influence:\n",
    "                max_node = node\n",
    "                max_influence = influence\n",
    "        s.append(max_node)\n",
    "    \n",
    "    return s"
   ]
  },
  {
   "cell_type": "code",
   "execution_count": 357,
   "metadata": {},
   "outputs": [
    {
     "data": {
      "application/vnd.jupyter.widget-view+json": {
       "model_id": "563620f3b4f2430e97532494ecda5b02",
       "version_major": 2,
       "version_minor": 0
      },
      "text/plain": [
       "HBox(children=(IntProgress(value=0, max=2), HTML(value='')))"
      ]
     },
     "metadata": {},
     "output_type": "display_data"
    },
    {
     "data": {
      "application/vnd.jupyter.widget-view+json": {
       "model_id": "d80a0eee128d45edb0cea91f1b650acb",
       "version_major": 2,
       "version_minor": 0
      },
      "text/plain": [
       "HBox(children=(IntProgress(value=0, max=50), HTML(value='')))"
      ]
     },
     "metadata": {},
     "output_type": "display_data"
    },
    {
     "data": {
      "application/vnd.jupyter.widget-view+json": {
       "model_id": "c097effe05a0436c991c11539170e8ce",
       "version_major": 2,
       "version_minor": 0
      },
      "text/plain": [
       "HBox(children=(IntProgress(value=0, max=50), HTML(value='')))"
      ]
     },
     "metadata": {},
     "output_type": "display_data"
    },
    {
     "data": {
      "text/plain": [
       "[0, 1]"
      ]
     },
     "execution_count": 357,
     "metadata": {},
     "output_type": "execute_result"
    }
   ],
   "source": [
    "naive_greedy_algorithm(2)"
   ]
  },
  {
   "cell_type": "code",
   "execution_count": null,
   "metadata": {},
   "outputs": [],
   "source": []
  }
 ],
 "metadata": {
  "kernelspec": {
   "display_name": "Python 3",
   "language": "python",
   "name": "python3"
  },
  "language_info": {
   "codemirror_mode": {
    "name": "ipython",
    "version": 3
   },
   "file_extension": ".py",
   "mimetype": "text/x-python",
   "name": "python",
   "nbconvert_exporter": "python",
   "pygments_lexer": "ipython3",
   "version": "3.7.0"
  }
 },
 "nbformat": 4,
 "nbformat_minor": 2
}
