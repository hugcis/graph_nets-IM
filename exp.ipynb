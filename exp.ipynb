{
 "cells": [
  {
   "cell_type": "code",
   "execution_count": 5,
   "metadata": {},
   "outputs": [],
   "source": [
    "import numpy as np\n",
    "import matplotlib.pyplot as plt"
   ]
  },
  {
   "cell_type": "markdown",
   "metadata": {},
   "source": [
    "## Initial setup"
   ]
  },
  {
   "cell_type": "code",
   "execution_count": 26,
   "metadata": {},
   "outputs": [],
   "source": [
    "N_NODES = 100\n",
    "N_EDGES = 400\n",
    "\n",
    "edges_random = np.random.random((N_NODES, N_NODES))\n"
   ]
  },
  {
   "cell_type": "code",
   "execution_count": 28,
   "metadata": {},
   "outputs": [
    {
     "data": {
      "text/plain": [
       "array([[0.37225724, 0.55936706, 0.88975619, ..., 0.9834694 , 0.46775397,\n",
       "        0.41105953],\n",
       "       [0.1576874 , 0.92918444, 0.57060792, ..., 0.18371768, 0.68617198,\n",
       "        0.47562381],\n",
       "       [0.37970499, 0.21965334, 0.3141579 , ..., 0.20692263, 0.97000846,\n",
       "        0.35417408],\n",
       "       ...,\n",
       "       [0.05102212, 0.90428915, 0.73741114, ..., 0.51701272, 0.6646417 ,\n",
       "        0.57730051],\n",
       "       [0.97099856, 0.56301733, 0.12333792, ..., 0.62628084, 0.88034286,\n",
       "        0.4018036 ],\n",
       "       [0.179749  , 0.03188598, 0.77519392, ..., 0.28740891, 0.32227529,\n",
       "        0.52674073]])"
      ]
     },
     "execution_count": 28,
     "metadata": {},
     "output_type": "execute_result"
    }
   ],
   "source": [
    "S = []\n",
    "for k in range(size):\n",
    "    sa"
   ]
  },
  {
   "cell_type": "code",
   "execution_count": null,
   "metadata": {},
   "outputs": [],
   "source": []
  }
 ],
 "metadata": {
  "kernelspec": {
   "display_name": "Python 3",
   "language": "python",
   "name": "python3"
  },
  "language_info": {
   "codemirror_mode": {
    "name": "ipython",
    "version": 3
   },
   "file_extension": ".py",
   "mimetype": "text/x-python",
   "name": "python",
   "nbconvert_exporter": "python",
   "pygments_lexer": "ipython3",
   "version": "3.6.6"
  }
 },
 "nbformat": 4,
 "nbformat_minor": 2
}
